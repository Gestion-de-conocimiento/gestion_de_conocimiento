{
 "cells": [
  {
   "cell_type": "code",
   "execution_count": 3,
   "metadata": {
    "collapsed": true
   },
   "outputs": [
    {
     "ename": "TypeError",
     "evalue": "'type' object is not subscriptable",
     "output_type": "error",
     "traceback": [
      "\u001B[1;31m---------------------------------------------------------------------------\u001B[0m",
      "\u001B[1;31mTypeError\u001B[0m                                 Traceback (most recent call last)",
      "\u001B[1;32m<ipython-input-3-8d423c20a570>\u001B[0m in \u001B[0;36m<module>\u001B[1;34m\u001B[0m\n\u001B[0;32m     49\u001B[0m \u001B[1;33m\u001B[0m\u001B[0m\n\u001B[0;32m     50\u001B[0m \u001B[1;32mfor\u001B[0m \u001B[0mnodo\u001B[0m \u001B[1;32min\u001B[0m \u001B[0mRBMA\u001B[0m\u001B[1;33m:\u001B[0m\u001B[1;33m\u001B[0m\u001B[1;33m\u001B[0m\u001B[0m\n\u001B[1;32m---> 51\u001B[1;33m     \u001B[0mprint\u001B[0m\u001B[1;33m(\u001B[0m\u001B[0mNODO\u001B[0m\u001B[1;33m[\u001B[0m\u001B[0mnodo\u001B[0m\u001B[1;33m]\u001B[0m\u001B[1;33m)\u001B[0m\u001B[1;33m\u001B[0m\u001B[1;33m\u001B[0m\u001B[0m\n\u001B[0m",
      "\u001B[1;31mTypeError\u001B[0m: 'type' object is not subscriptable"
     ]
    }
   ],
   "source": [
    "import requests\n",
    "from catsim.cat import generate_item_bank\n",
    "from catsim.simulation import *\n",
    "from catsim.initialization import *\n",
    "from catsim.selection import *\n",
    "from catsim.estimation import *\n",
    "from catsim.stopping import *\n",
    "import catsim.plot as catplot\n",
    "from catsim.irt import icc\n",
    "import matplotlib.pyplot as plt\n",
    "from NODO import NODO\n",
    "from RED_BAYESIANA import RED_BAYESIANA\n",
    "from MPCN import MPCN\n",
    "import pickle\n",
    "import os.path\n",
    "from os import path\n",
    "\n",
    "URL = \"http://159.223.190.216/arbol/caminoslibreria\"\n",
    "respuestaDelServidor = requests.get(url = URL).json()\n",
    "caminos = respuestaDelServidor['caminos']\n",
    "\n",
    "saltos = 3\n",
    "tema_objetivo = 88\n",
    "ponderacion_objetiva = 100\n",
    "\n",
    "CONTRUCTOR_BN = RED_BAYESIANA(['MPCN',tema_objetivo,ponderacion_objetiva,saltos])\n",
    "SRB = CONTRUCTOR_BN.obtenerSubRed()\n",
    "RBM = CONTRUCTOR_BN.obtenerRedCompleta()\n",
    "CAMINOS_SRB = CONTRUCTOR_BN.obtenerCaminosSubRed(tema_objetivo, saltos, caminos)\n",
    "\n",
    "# HACER LA PRIMERA VEZ UNICAMENTE\n",
    "RBMA = {}\n",
    "if not path.exists(\"rbma_alumno_1234.pkl\"):\n",
    "    for nodo in RBM.nodes():\n",
    "        nodo_rbm = NODO(RBM.variable(nodo).name(), 1)\n",
    "        if RBM.variable(nodo).name() == str(tema_objetivo):\n",
    "            nodo_rbm.poderacion = ponderacion_objetiva\n",
    "            nodo_rbm.clasificacion = 3\n",
    "        for tema in respuestaDelServidor['temas']:\n",
    "            if RBM.variable(nodo).name() == str(tema['id']):\n",
    "                nodo_rbm.dificultad = tema['dificultad']\n",
    "        RBMA[RBM.variable(nodo).name()] = nodo_rbm\n",
    "\n",
    "    # Almacenar la RBMA de manera persistente\n",
    "    with open('rbma_alumno_1234.pkl', 'wb') as outp:\n",
    "        pickle.dump( RBMA, outp, pickle.HIGHEST_PROTOCOL)\n",
    "else:\n",
    "    with open('rbma_alumno_1234.pkl', 'rb') as inp:\n",
    "        RBMA = pickle.load(inp)\n",
    "\n",
    "for nodo in RBMA:\n",
    "    print(NODO[nodo])"
   ]
  },
  {
   "cell_type": "code",
   "execution_count": null,
   "outputs": [],
   "source": [
    "INSTANCIA_MPCN = MPCN(RBMA, CAMINOS_SRB, tema_objetivo, ponderacion_objetiva)\n",
    "INSTANCIA_MPCN.ponderarNodos()\n",
    "INSTANCIA_MPCN.hacerInferencias(RBM)\n",
    "INSTANCIA_MPCN.promediarInferencias(SRB)\n",
    "NODOS = INSTANCIA_MPCN.obtenerNodos()\n",
    "\n",
    "items = []\n",
    "for nodo in NODOS:\n",
    "    NODOS[nodo].discriminacion = 1 #\n",
    "    NODOS[nodo].adivinacion = NODOS[nodo].matriz_inferencia[2] / 100\n",
    "    NODOS[nodo].asintota = 1 #\n",
    "    if not (NODOS[nodo].id == \"1\" or NODOS[nodo].id == \"2\" or NODOS[nodo].id == \"14\" or NODOS[nodo].id == \"20\" or NODOS[nodo].id == \"13\" or NODOS[nodo].id == \"17\" or NODOS[nodo].id == \"40\" or NODOS[nodo].id == \"51\" or NODOS[nodo].id == \"52\"):\n",
    "        item = [ NODOS[nodo].discriminacion, NODOS[nodo].dificultad, NODOS[nodo].adivinacion, NODOS[nodo].asintota, 0.0  ]\n",
    "        items.append(item)\n",
    "\n",
    "items = numpy.array(items)"
   ],
   "metadata": {
    "collapsed": false,
    "pycharm": {
     "name": "#%%\n"
    }
   }
  },
  {
   "cell_type": "code",
   "execution_count": 3,
   "outputs": [
    {
     "name": "stdout",
     "output_type": "stream",
     "text": [
      "[0, 0, 0]\n",
      "[0, 0, 0]\n",
      "[0, 0, 0]\n",
      "[0, 0, 0]\n",
      "[0, 0, 0]\n",
      "[0, 0, 0]\n",
      "[0, 0, 0]\n",
      "[0, 0, 0]\n",
      "[0, 0, 0]\n",
      "[0, 0, 0]\n",
      "[0, 0, 0]\n",
      "[0, 0, 0]\n",
      "[0, 0, 0]\n",
      "[0, 0, 0]\n",
      "[0, 0, 0]\n",
      "[0, 0, 0]\n",
      "[0, 0, 0]\n",
      "[0, 0, 0]\n",
      "[0, 0, 0]\n",
      "[0, 0, 0]\n",
      "[0, 0, 0]\n",
      "[0, 0, 0]\n",
      "[0, 0, 0]\n",
      "[0, 0, 0]\n",
      "[0, 0, 0]\n",
      "[0, 0, 0]\n",
      "[0, 0, 0]\n",
      "[0, 0, 0]\n",
      "[0, 0, 0]\n",
      "[0, 0, 0]\n",
      "[0, 0, 0]\n",
      "[0, 0, 0]\n",
      "[0, 0, 0]\n",
      "[0, 0, 0]\n",
      "[0, 0, 0]\n",
      "[0, 0, 0]\n",
      "[0, 0, 0]\n",
      "[0, 0, 0]\n",
      "[0, 0, 0]\n",
      "[0, 0, 0]\n",
      "[67.98341860819454, 15.883462905627086, 16.133118486178372]\n",
      "[70.59880269168644, 14.280798692589562, 15.120398615723992]\n",
      "[71.36584835463482, 17.327052516114925, 11.307099129250249]\n",
      "[0, 0, 0]\n",
      "[0, 0, 0]\n",
      "[0, 0, 0]\n",
      "[0, 0, 0]\n",
      "[0, 0, 0]\n",
      "[0, 0, 0]\n",
      "[0, 0, 0]\n",
      "[0, 0, 0]\n",
      "[0, 0, 0]\n",
      "[0, 0, 0]\n",
      "[0, 0, 0]\n",
      "[0, 0, 0]\n",
      "[0, 0, 0]\n",
      "[0.0, 0.0, 100.0]\n",
      "[0, 0, 0]\n",
      "[0, 0, 0]\n",
      "[0, 0, 0]\n",
      "[0, 0, 0]\n",
      "[0, 0, 0]\n",
      "[0, 0, 0]\n",
      "[0, 0, 0]\n",
      "[0, 0, 0]\n",
      "[0, 0, 0]\n",
      "[0, 0, 0]\n",
      "[0, 0, 0]\n",
      "[0, 0, 0]\n",
      "[15.943204249772421, 15.104131928991402, 68.95266382123617]\n",
      "[0, 0, 0]\n",
      "[0, 0, 0]\n",
      "[0, 0, 0]\n",
      "[0, 0, 0]\n",
      "[0, 0, 0]\n",
      "[0, 0, 0]\n",
      "[0, 0, 0]\n",
      "[0, 0, 0]\n",
      "[0, 0, 0]\n",
      "[0, 0, 0]\n",
      "[0, 0, 0]\n",
      "[0, 0, 0]\n",
      "[19.190887743106792, 14.038513932324317, 66.7705983245689]\n",
      "[0, 0, 0]\n",
      "[0, 0, 0]\n",
      "[0, 0, 0]\n",
      "[0, 0, 0]\n",
      "[0, 0, 0]\n",
      "[0, 0, 0]\n",
      "[0, 0, 0]\n",
      "[0, 0, 0]\n",
      "[0, 0, 0]\n",
      "[0, 0, 0]\n",
      "[0, 0, 0]\n",
      "[0, 0, 0]\n",
      "[0, 0, 0]\n",
      "[0, 0, 0]\n",
      "[0, 0, 0]\n",
      "[0, 0, 0]\n",
      "[0, 0, 0]\n",
      "[0, 0, 0]\n",
      "[0, 0, 0]\n",
      "[0, 0, 0]\n",
      "[0, 0, 0]\n",
      "[0, 0, 0]\n",
      "[0, 0, 0]\n",
      "[0, 0, 0]\n",
      "[0, 0, 0]\n",
      "[0, 0, 0]\n",
      "[0, 0, 0]\n",
      "[0, 0, 0]\n",
      "[0, 0, 0]\n",
      "[0, 0, 0]\n",
      "[0, 0, 0]\n",
      "[0, 0, 0]\n",
      "[0, 0, 0]\n",
      "[0, 0, 0]\n",
      "[0, 0, 0]\n",
      "[0, 0, 0]\n",
      "[0, 0, 0]\n",
      "[0, 0, 0]\n",
      "[0, 0, 0]\n"
     ]
    }
   ],
   "source": [
    "for nodo in NODOS:\n",
    "    print(NODOS[nodo].matriz_inferencia_final)"
   ],
   "metadata": {
    "collapsed": false,
    "pycharm": {
     "name": "#%%\n"
    }
   }
  },
  {
   "cell_type": "code",
   "execution_count": null,
   "outputs": [],
   "source": [
    "saltos = 3\n",
    "tema_objetivo = 88\n",
    "ponderacion_objetiva = 100\n",
    "\n",
    "CONTRUCTOR_BN = RED_BAYESIANA(['MPCN',tema_objetivo,ponderacion_objetiva,saltos])\n",
    "SRB = CONTRUCTOR_BN.obtenerSubRed()\n",
    "CAMINOS_SRB = CONTRUCTOR_BN.obtenerCaminosSubRed(tema_objetivo, saltos, caminos)\n",
    "\n",
    "INSTANCIA_MPCN = MPCN(RBMA, CAMINOS_SRB, tema_objetivo, ponderacion_objetiva)\n",
    "INSTANCIA_MPCN.ponderarNodos()\n",
    "INSTANCIA_MPCN.hacerInferencias(RBM)\n",
    "INSTANCIA_MPCN.promediarInferencias(SRB)\n",
    "NODOS = INSTANCIA_MPCN.obtenerNodos()"
   ],
   "metadata": {
    "collapsed": false,
    "pycharm": {
     "name": "#%%\n"
    }
   }
  },
  {
   "cell_type": "code",
   "execution_count": 346,
   "outputs": [],
   "source": [
    "temas_evaluados = []\n",
    "respuestas = []\n",
    "for nodo in SRB.nodes():\n",
    "    nombre_nodo = SRB.variable(nodo).name()\n",
    "    i=0\n",
    "    for nodo in NODOS:\n",
    "        if NODOS[nodo].id == nombre_nodo:\n",
    "            temas_evaluados.append(i)\n",
    "        i=i+1\n",
    "    if (NODOS[nombre_nodo].matriz_inferencia_final[0] >= NODOS[nombre_nodo].matriz_inferencia_final[1]) and (NODOS[nombre_nodo].matriz_inferencia_final[0] >= NODOS[nombre_nodo].matriz_inferencia_final[2]):\n",
    "        respuestas.append(False)\n",
    "    else:\n",
    "        respuestas.append(True)"
   ],
   "metadata": {
    "collapsed": false,
    "pycharm": {
     "name": "#%%\n"
    }
   }
  },
  {
   "cell_type": "code",
   "execution_count": 10,
   "outputs": [
    {
     "name": "stdout",
     "output_type": "stream",
     "text": [
      "NODOS EVALUADOS ==================================\n",
      "ID NODO: 88\n",
      "DIFICULTAD: -1.54285714\n",
      "RESPUESTA: True\n",
      "_____________________\n",
      "ID NODO: 186\n",
      "DIFICULTAD: -0.17142857\n",
      "RESPUESTA: True\n",
      "_____________________\n",
      "ID NODO: 76\n",
      "DIFICULTAD: 0.25714286\n",
      "RESPUESTA: False\n",
      "_____________________\n",
      "NODO SIGUIENTE ==================================\n",
      "ID NODO: 185\n",
      "DIFICULTAD: -0.6\n"
     ]
    }
   ],
   "source": [
    "# Los temas que han sido evaluados\n",
    "initializer = RandomInitializer()\n",
    "selector = MaxInfoSelector()\n",
    "estimator = NumericalSearchEstimator()\n",
    "stopper = MaxItemStopper(10)\n",
    "\n",
    "temas_evaluados = [57, 109, 42]\n",
    "respuestas = [True, True, False]\n",
    "#est_theta = initializer.initialize()\n",
    "est_theta = 0.0\n",
    "new_theta = estimator.estimate(items=items, administered_items=temas_evaluados, response_vector=respuestas, est_theta=est_theta)\n",
    "_stop = stopper.stop(administered_items=items[temas_evaluados], theta=est_theta)\n",
    "sig_tema = selector.select(items=items, administered_items=temas_evaluados, est_theta=est_theta)\n",
    "\n",
    "print(\"NODOS EVALUADOS ==================================\")\n",
    "for evaluado in temas_evaluados:\n",
    "    print(\"ID NODO: \" + str( NODOS[ list(NODOS)[evaluado] ].id ) )\n",
    "    print(\"DIFICULTAD: \" + str( NODOS[ list(NODOS)[evaluado] ].dificultad ) )\n",
    "    print(\"RESPUESTA: \" + str(respuestas[ temas_evaluados.index(evaluado) ]))\n",
    "    print(\"_____________________\")\n",
    "print(\"NODO SIGUIENTE ==================================\")\n",
    "print(\"ID NODO: \" + str(  NODOS[ list(NODOS)[sig_tema] ].id )  )\n",
    "print(\"DIFICULTAD: \" + str(  NODOS[ list(NODOS)[sig_tema] ].dificultad )  )"
   ],
   "metadata": {
    "collapsed": false,
    "pycharm": {
     "name": "#%%\n"
    }
   }
  },
  {
   "cell_type": "code",
   "execution_count": 9,
   "outputs": [
    {
     "name": "stdout",
     "output_type": "stream",
     "text": [
      "42\n"
     ]
    }
   ],
   "source": [
    "i=0\n",
    "for nodo in NODOS:\n",
    "    if NODOS[nodo].id == \"76\":\n",
    "        print(i)\n",
    "    i=i+1"
   ],
   "metadata": {
    "collapsed": false,
    "pycharm": {
     "name": "#%%\n"
    }
   }
  }
 ],
 "metadata": {
  "kernelspec": {
   "display_name": "Python 3",
   "language": "python",
   "name": "python3"
  },
  "language_info": {
   "codemirror_mode": {
    "name": "ipython",
    "version": 2
   },
   "file_extension": ".py",
   "mimetype": "text/x-python",
   "name": "python",
   "nbconvert_exporter": "python",
   "pygments_lexer": "ipython2",
   "version": "2.7.6"
  }
 },
 "nbformat": 4,
 "nbformat_minor": 0
}