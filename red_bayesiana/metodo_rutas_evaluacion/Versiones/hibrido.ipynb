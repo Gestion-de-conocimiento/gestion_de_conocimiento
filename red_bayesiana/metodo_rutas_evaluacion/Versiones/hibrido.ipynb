{
 "cells": [
  {
   "cell_type": "code",
   "execution_count": 1,
   "outputs": [],
   "source": [
    "import requests\n",
    "from catsim.cat import generate_item_bank\n",
    "from catsim.simulation import *\n",
    "from catsim.initialization import *\n",
    "from catsim.selection import *\n",
    "from catsim.estimation import *\n",
    "from catsim.stopping import *\n",
    "import catsim.plot as catplot\n",
    "from catsim.irt import icc\n",
    "import matplotlib.pyplot as plt\n",
    "from NODO import NODO\n",
    "from RED_BAYESIANA import RED_BAYESIANA\n",
    "from MPCN import MPCN\n",
    "\n",
    "URL = \"http://159.223.190.216/arbol/caminoslibreria\"\n",
    "respuestaDelServidor = requests.get(url = URL).json()\n",
    "caminos = respuestaDelServidor['caminos']\n",
    "\n",
    "saltos = 1\n",
    "tema_objetivo = 73\n",
    "ponderacion_objetiva = 90\n",
    "\n",
    "caminos_ordenados = {}\n",
    "CONTRUCTOR_BN = RED_BAYESIANA(['MPCN',tema_objetivo,ponderacion_objetiva,saltos])\n",
    "SRB = CONTRUCTOR_BN.obtenerSubRed()\n",
    "RBM = CONTRUCTOR_BN.obtenerRedCompleta()\n",
    "\n",
    "CAMINOS_SRB = CONTRUCTOR_BN.obtenerCaminosSubRed(tema_objetivo, saltos, caminos)\n",
    "NODOS_RBMA = {}\n",
    "\n",
    "#Inicialización de la RBMA\n",
    "for nodo in RBM.nodes():\n",
    "    nodo_rbm = NODO(RBM.variable(nodo).name(), 1)\n",
    "    if RBM.variable(nodo).name() == str(tema_objetivo):\n",
    "        nodo_rbm.poderacion = ponderacion_objetiva\n",
    "        nodo_rbm.clasificacion = 3\n",
    "    for tema in respuestaDelServidor['temas']:\n",
    "        if RBM.variable(nodo).name() == str(tema['id']):\n",
    "            nodo_rbm.dificultad = tema['dificultad']\n",
    "    NODOS_RBMA[RBM.variable(nodo).name()] = nodo_rbm\n",
    "\n",
    "INSTANCIA_MPCN = MPCN(NODOS_RBMA, CAMINOS_SRB, tema_objetivo, ponderacion_objetiva)\n",
    "INSTANCIA_MPCN.ponderarNodos()\n",
    "INSTANCIA_MPCN.hacerInferencias(RBM)\n",
    "INSTANCIA_MPCN.promediarInferencias(SRB)\n",
    "NODOS = INSTANCIA_MPCN.obtenerNodos()"
   ],
   "metadata": {
    "collapsed": false,
    "pycharm": {
     "name": "#%%\n"
    }
   }
  },
  {
   "cell_type": "code",
   "execution_count": 3,
   "outputs": [
    {
     "name": "stdout",
     "output_type": "stream",
     "text": [
      "-1.97142857\n",
      "-0.25714286\n",
      "-0.25714286\n",
      "-0.25714286\n",
      "-2.05714286\n",
      "-2.14285714\n",
      "-2.05714286\n",
      "-1.11428571\n",
      "-0.34285714\n",
      "-2.14285714\n",
      "-2.22857143\n",
      "-2.31428571\n",
      "-1.2\n",
      "-0.42857143\n",
      "-0.42857143\n",
      "0.42857143\n",
      "1.2\n",
      "1.8\n",
      "3\n",
      "-2.4\n",
      "1.71428571\n",
      "1.71428571\n",
      "1.71428571\n",
      "1.71428571\n",
      "1.71428571\n",
      "1.71428571\n",
      "0.34285714\n",
      "-1.37142857\n",
      "-1.28571429\n",
      "-1.37142857\n",
      "-1.28571429\n",
      "-0.51428571\n",
      "1.02857143\n",
      "1.11428571\n",
      "1.71428571\n",
      "2.91428571\n",
      "-2.48571429\n",
      "-2.48571429\n",
      "0.94285714\n",
      "0.94285714\n",
      "0.25714286\n",
      "0.25714286\n",
      "0.25714286\n",
      "-1.45714286\n",
      "-2.14285714\n",
      "-1.45714286\n",
      "-0.6\n",
      "-0.6\n",
      "2.31428571\n",
      "2.82857143\n",
      "-2.57142857\n",
      "-2.57142857\n",
      "-2.57142857\n",
      "-2.57142857\n",
      "1.62857143\n",
      "0.85714286\n",
      "0.17142857\n",
      "-1.54285714\n",
      "-2.31428571\n",
      "-2.57142857\n",
      "-1.11428571\n",
      "-0.68571429\n",
      "-0.68571429\n",
      "2.22857143\n",
      "2.74285714\n",
      "-2.65714286\n",
      "-2.65714286\n",
      "0.77142857\n",
      "-0.77142857\n",
      "0.08571429\n",
      "-1.2\n",
      "-1.62857143\n",
      "-0.77142857\n",
      "1.54285714\n",
      "2.14285714\n",
      "2.65714286\n",
      "-2.74285714\n",
      "-2.74285714\n",
      "-2.14285714\n",
      "1.45714286\n",
      "0.68571429\n",
      "-0.85714286\n",
      "0\n",
      "-1.71428571\n",
      "-1.28571429\n",
      "-1.71428571\n",
      "-0.85714286\n",
      "2.05714286\n",
      "2.57142857\n",
      "-2.82857143\n",
      "-2.82857143\n",
      "-0.08571429\n",
      "-2.82857143\n",
      "-2.82857143\n",
      "0.6\n",
      "-0.94285714\n",
      "-1.8\n",
      "-1.8\n",
      "-0.94285714\n",
      "1.37142857\n",
      "1.97142857\n",
      "2.48571429\n",
      "-2.91428571\n",
      "0.51428571\n",
      "-1.02857143\n",
      "-1.88571429\n",
      "-2.91428571\n",
      "0.51428571\n",
      "-2.91428571\n",
      "-0.17142857\n",
      "1.28571429\n",
      "1.88571429\n",
      "2.4\n",
      "-1.97142857\n",
      "-2.31428571\n",
      "-2.14285714\n",
      "-2.22857143\n",
      "-2.14285714\n",
      "-2.4\n",
      "-2.48571429\n",
      "-2.31428571\n",
      "-3\n"
     ]
    }
   ],
   "source": [
    "# RBMA\n",
    "for nodo in NODOS:\n",
    "    print(NODOS[nodo].dificultad)"
   ],
   "metadata": {
    "collapsed": false,
    "pycharm": {
     "name": "#%%\n"
    }
   }
  },
  {
   "cell_type": "code",
   "execution_count": 4,
   "outputs": [
    {
     "name": "stdout",
     "output_type": "stream",
     "text": [
      "nodo rama\n",
      "nodo rama\n",
      "nodo rama\n",
      "nodo rama\n",
      "nodo rama\n",
      "nodo rama\n",
      "nodo rama\n",
      "nodo rama\n",
      "nodo rama\n"
     ]
    }
   ],
   "source": [
    "initializer = RandomInitializer()\n",
    "selector = MaxInfoSelector()\n",
    "estimator = NumericalSearchEstimator()\n",
    "stopper = MaxItemStopper(20)\n",
    "#items = generate_item_bank(5, '3PL')\n",
    "items = []\n",
    "\n",
    "#RBMA\n",
    "for nodo in NODOS:\n",
    "    NODOS[nodo].discriminacion = 1 #\n",
    "    NODOS[nodo].adivinacion = NODOS[nodo].matriz_inferencia[2] / 100\n",
    "    #if NODOS[nodo].matriz_inferencia_final[2] == 0:\n",
    "    #    NODOS[nodo].adivinacion = NODOS[nodo].matriz_inferencia[0] / 100\n",
    "    #else:\n",
    "    #    NODOS[nodo].adivinacion = NODOS[nodo].matriz_inferencia_final[0] / 100\n",
    "    NODOS[nodo].asintota = 1 #\n",
    "\n",
    "    if  NODOS[nodo].id == \"1\" or  NODOS[nodo].id == \"2\" or  NODOS[nodo].id == \"14\" or  NODOS[nodo].id == \"20\" or  NODOS[nodo].id == \"13\" or  NODOS[nodo].id == \"17\" or  NODOS[nodo].id == \"40\" or  NODOS[nodo].id == \"51\" or  NODOS[nodo].id == \"52\":\n",
    "\n",
    "        print(\"nodo rama\")\n",
    "    else:\n",
    "        item = [ NODOS[nodo].discriminacion, NODOS[nodo].dificultad, NODOS[nodo].adivinacion, NODOS[nodo].asintota  ]\n",
    "        items.append(item)\n",
    "\n",
    "    #item = [ NODOS[nodo].discriminacion, NODOS[nodo].dificultad, NODOS[nodo].adivinacion, NODOS[nodo].asintota  ]\n",
    "    #items.append(item)\n",
    "\n",
    "items = numpy.array(items)\n",
    "#items_sinteticos = generate_item_bank(122, '3PL')\n",
    "#items_sinteticos"
   ],
   "metadata": {
    "collapsed": false,
    "pycharm": {
     "name": "#%%\n"
    }
   }
  },
  {
   "cell_type": "code",
   "execution_count": 5,
   "outputs": [
    {
     "data": {
      "text/plain": "array([[ 1.        , -1.97142857,  0.3584807 ,  1.        ],\n       [ 1.        , -0.25714286,  0.42485041,  1.        ],\n       [ 1.        , -0.25714286,  0.44918649,  1.        ],\n       [ 1.        , -0.25714286,  0.34918452,  1.        ],\n       [ 1.        , -2.05714286,  0.40713709,  1.        ],\n       [ 1.        , -2.14285714,  0.27937201,  1.        ],\n       [ 1.        , -2.05714286,  0.68787943,  1.        ],\n       [ 1.        , -1.11428571,  0.27731235,  1.        ],\n       [ 1.        , -0.34285714,  0.41025312,  1.        ],\n       [ 1.        , -2.14285714,  0.32037155,  1.        ],\n       [ 1.        , -2.22857143,  0.4735946 ,  1.        ],\n       [ 1.        , -2.31428571,  0.38617785,  1.        ],\n       [ 1.        , -1.2       ,  0.37651801,  1.        ],\n       [ 1.        , -0.42857143,  0.42129401,  1.        ],\n       [ 1.        , -0.42857143,  0.45067648,  1.        ],\n       [ 1.        ,  0.42857143,  0.25229817,  1.        ],\n       [ 1.        ,  1.2       ,  0.35030218,  1.        ],\n       [ 1.        ,  1.8       ,  0.29993014,  1.        ],\n       [ 1.        ,  3.        ,  0.24664265,  1.        ],\n       [ 1.        , -2.4       ,  0.32085627,  1.        ],\n       [ 1.        ,  1.71428571,  0.50178987,  1.        ],\n       [ 1.        ,  1.71428571,  0.46756908,  1.        ],\n       [ 1.        ,  1.71428571,  0.40930941,  1.        ],\n       [ 1.        ,  1.71428571,  0.35015698,  1.        ],\n       [ 1.        ,  1.71428571,  0.30813298,  1.        ],\n       [ 1.        ,  1.71428571,  0.50050239,  1.        ],\n       [ 1.        ,  0.34285714,  0.34882965,  1.        ],\n       [ 1.        , -1.37142857,  0.54822255,  1.        ],\n       [ 1.        , -1.28571429,  0.33841631,  1.        ],\n       [ 1.        , -1.37142857,  0.37833435,  1.        ],\n       [ 1.        , -1.28571429,  0.34804914,  1.        ],\n       [ 1.        , -0.51428571,  0.51215062,  1.        ],\n       [ 1.        ,  1.02857143,  0.34186854,  1.        ],\n       [ 1.        ,  1.11428571,  0.44960541,  1.        ],\n       [ 1.        ,  1.71428571,  0.31747068,  1.        ],\n       [ 1.        ,  2.91428571,  0.24721847,  1.        ],\n       [ 1.        , -2.48571429,  0.50084635,  1.        ],\n       [ 1.        , -2.48571429,  0.48121992,  1.        ],\n       [ 1.        ,  0.94285714,  0.19155291,  1.        ],\n       [ 1.        ,  0.94285714,  0.34912968,  1.        ],\n       [ 1.        ,  0.25714286,  0.32266237,  1.        ],\n       [ 1.        ,  0.25714286,  0.30240797,  1.        ],\n       [ 1.        ,  0.25714286,  0.22614198,  1.        ],\n       [ 1.        , -1.45714286,  0.38930403,  1.        ],\n       [ 1.        , -2.14285714,  0.37907031,  1.        ],\n       [ 1.        , -1.45714286,  0.3945366 ,  1.        ],\n       [ 1.        , -0.6       ,  0.34837211,  1.        ],\n       [ 1.        , -0.6       ,  0.27961513,  1.        ],\n       [ 1.        ,  2.31428571,  0.21851345,  1.        ],\n       [ 1.        ,  2.82857143,  0.28061475,  1.        ],\n       [ 1.        , -2.57142857,  0.43706022,  1.        ],\n       [ 1.        , -2.57142857,  0.54069084,  1.        ],\n       [ 1.        , -2.57142857,  0.59811179,  1.        ],\n       [ 1.        , -2.57142857,  0.57340217,  1.        ],\n       [ 1.        ,  1.62857143,  0.39927409,  1.        ],\n       [ 1.        ,  0.85714286,  0.16250906,  1.        ],\n       [ 1.        ,  0.17142857,  1.        ,  1.        ],\n       [ 1.        , -1.54285714,  0.47819597,  1.        ],\n       [ 1.        , -2.31428571,  0.71332461,  1.        ],\n       [ 1.        , -2.57142857,  0.40761304,  1.        ],\n       [ 1.        , -1.11428571,  0.25246851,  1.        ],\n       [ 1.        , -0.68571429,  0.5594166 ,  1.        ],\n       [ 1.        , -0.68571429,  0.28242631,  1.        ],\n       [ 1.        ,  2.22857143,  0.27975075,  1.        ],\n       [ 1.        ,  2.74285714,  0.29157161,  1.        ],\n       [ 1.        , -2.65714286,  0.77899692,  1.        ],\n       [ 1.        , -2.65714286,  0.4081186 ,  1.        ],\n       [ 1.        ,  0.77142857,  0.31226652,  1.        ],\n       [ 1.        , -0.77142857,  0.49113467,  1.        ],\n       [ 1.        ,  0.08571429,  0.37905328,  1.        ],\n       [ 1.        , -1.2       ,  0.44816836,  1.        ],\n       [ 1.        , -1.62857143,  0.46104099,  1.        ],\n       [ 1.        , -0.77142857,  0.50176973,  1.        ],\n       [ 1.        ,  1.54285714,  0.29013201,  1.        ],\n       [ 1.        ,  2.14285714,  0.31131763,  1.        ],\n       [ 1.        ,  2.65714286,  0.28933586,  1.        ],\n       [ 1.        , -2.74285714,  0.79862385,  1.        ],\n       [ 1.        , -2.74285714,  0.55332006,  1.        ],\n       [ 1.        , -2.14285714,  0.557838  ,  1.        ],\n       [ 1.        ,  1.45714286,  0.40654377,  1.        ],\n       [ 1.        ,  0.68571429,  0.34938843,  1.        ],\n       [ 1.        , -0.85714286,  0.49834876,  1.        ],\n       [ 1.        ,  0.        ,  0.33541197,  1.        ],\n       [ 1.        , -1.71428571,  0.38356259,  1.        ],\n       [ 1.        , -1.28571429,  0.68516474,  1.        ],\n       [ 1.        , -1.71428571,  0.41899072,  1.        ],\n       [ 1.        , -0.85714286,  0.49863706,  1.        ],\n       [ 1.        ,  2.05714286,  0.25058837,  1.        ],\n       [ 1.        ,  2.57142857,  0.41621388,  1.        ],\n       [ 1.        , -2.82857143,  0.94138194,  1.        ],\n       [ 1.        , -2.82857143,  0.58854538,  1.        ],\n       [ 1.        , -0.08571429,  0.37895639,  1.        ],\n       [ 1.        , -2.82857143,  0.53268   ,  1.        ],\n       [ 1.        , -2.82857143,  0.74477331,  1.        ],\n       [ 1.        ,  0.6       ,  0.34965862,  1.        ],\n       [ 1.        , -0.94285714,  0.56043333,  1.        ],\n       [ 1.        , -1.8       ,  0.4129454 ,  1.        ],\n       [ 1.        , -1.8       ,  0.41152266,  1.        ],\n       [ 1.        , -0.94285714,  0.64832567,  1.        ],\n       [ 1.        ,  1.37142857,  0.31793935,  1.        ],\n       [ 1.        ,  1.97142857,  0.31826144,  1.        ],\n       [ 1.        ,  2.48571429,  0.43829701,  1.        ],\n       [ 1.        , -2.91428571,  0.65162776,  1.        ],\n       [ 1.        ,  0.51428571,  0.43807684,  1.        ],\n       [ 1.        , -1.02857143,  0.47836544,  1.        ],\n       [ 1.        , -1.88571429,  0.45204844,  1.        ],\n       [ 1.        , -2.91428571,  0.48063677,  1.        ],\n       [ 1.        ,  0.51428571,  0.32169881,  1.        ],\n       [ 1.        , -2.91428571,  0.25998744,  1.        ],\n       [ 1.        , -0.17142857,  0.23763293,  1.        ],\n       [ 1.        ,  1.28571429,  0.38129344,  1.        ],\n       [ 1.        ,  1.88571429,  0.30997959,  1.        ],\n       [ 1.        ,  2.4       ,  0.35269008,  1.        ]])"
     },
     "execution_count": 5,
     "metadata": {},
     "output_type": "execute_result"
    }
   ],
   "source": [
    "items"
   ],
   "metadata": {
    "collapsed": false,
    "pycharm": {
     "name": "#%%\n"
    }
   }
  },
  {
   "cell_type": "markdown",
   "source": [
    "# INFORMACIÓN DE LOS ITEMS\n",
    "* Indice 0 : Discriminación\n",
    "* Indice 1 : Dificultad\n",
    "* Indice 2 : Pseudo-adivinación\n",
    "* Indice 3 : Asíntota superior\n",
    "##### Al usar el modelo logistico 3PL: el índice 3 se asigna en 1.0\n",
    "##### Al usar el modelo logistico 2PL: el indice 3 se asigna en 1.0 y el índice 2 se asigna a 0.0"
   ],
   "metadata": {
    "collapsed": false
   }
  },
  {
   "cell_type": "code",
   "execution_count": 6,
   "outputs": [
    {
     "data": {
      "text/plain": "array([[ 1.        , -1.97142857,  0.3584807 ,  1.        ],\n       [ 1.        , -0.25714286,  0.42485041,  1.        ],\n       [ 1.        , -0.25714286,  0.44918649,  1.        ],\n       [ 1.        , -0.25714286,  0.34918452,  1.        ],\n       [ 1.        , -2.05714286,  0.40713709,  1.        ],\n       [ 1.        , -2.14285714,  0.27937201,  1.        ],\n       [ 1.        , -2.05714286,  0.68787943,  1.        ],\n       [ 1.        , -1.11428571,  0.27731235,  1.        ],\n       [ 1.        , -0.34285714,  0.41025312,  1.        ],\n       [ 1.        , -2.14285714,  0.32037155,  1.        ],\n       [ 1.        , -2.22857143,  0.4735946 ,  1.        ],\n       [ 1.        , -2.31428571,  0.38617785,  1.        ],\n       [ 1.        , -1.2       ,  0.37651801,  1.        ],\n       [ 1.        , -0.42857143,  0.42129401,  1.        ],\n       [ 1.        , -0.42857143,  0.45067648,  1.        ],\n       [ 1.        ,  0.42857143,  0.25229817,  1.        ],\n       [ 1.        ,  1.2       ,  0.35030218,  1.        ],\n       [ 1.        ,  1.8       ,  0.29993014,  1.        ],\n       [ 1.        ,  3.        ,  0.24664265,  1.        ],\n       [ 1.        , -2.4       ,  0.32085627,  1.        ],\n       [ 1.        ,  1.71428571,  0.50178987,  1.        ],\n       [ 1.        ,  1.71428571,  0.46756908,  1.        ],\n       [ 1.        ,  1.71428571,  0.40930941,  1.        ],\n       [ 1.        ,  1.71428571,  0.35015698,  1.        ],\n       [ 1.        ,  1.71428571,  0.30813298,  1.        ],\n       [ 1.        ,  1.71428571,  0.50050239,  1.        ],\n       [ 1.        ,  0.34285714,  0.34882965,  1.        ],\n       [ 1.        , -1.37142857,  0.54822255,  1.        ],\n       [ 1.        , -1.28571429,  0.33841631,  1.        ],\n       [ 1.        , -1.37142857,  0.37833435,  1.        ],\n       [ 1.        , -1.28571429,  0.34804914,  1.        ],\n       [ 1.        , -0.51428571,  0.51215062,  1.        ],\n       [ 1.        ,  1.02857143,  0.34186854,  1.        ],\n       [ 1.        ,  1.11428571,  0.44960541,  1.        ],\n       [ 1.        ,  1.71428571,  0.31747068,  1.        ],\n       [ 1.        ,  2.91428571,  0.24721847,  1.        ],\n       [ 1.        , -2.48571429,  0.50084635,  1.        ],\n       [ 1.        , -2.48571429,  0.48121992,  1.        ],\n       [ 1.        ,  0.94285714,  0.19155291,  1.        ],\n       [ 1.        ,  0.94285714,  0.34912968,  1.        ],\n       [ 1.        ,  0.25714286,  0.32266237,  1.        ],\n       [ 1.        ,  0.25714286,  0.30240797,  1.        ],\n       [ 1.        ,  0.25714286,  0.22614198,  1.        ],\n       [ 1.        , -1.45714286,  0.38930403,  1.        ],\n       [ 1.        , -2.14285714,  0.37907031,  1.        ],\n       [ 1.        , -1.45714286,  0.3945366 ,  1.        ],\n       [ 1.        , -0.6       ,  0.34837211,  1.        ],\n       [ 1.        , -0.6       ,  0.27961513,  1.        ],\n       [ 1.        ,  2.31428571,  0.21851345,  1.        ],\n       [ 1.        ,  2.82857143,  0.28061475,  1.        ],\n       [ 1.        , -2.57142857,  0.43706022,  1.        ],\n       [ 1.        , -2.57142857,  0.54069084,  1.        ],\n       [ 1.        , -2.57142857,  0.59811179,  1.        ],\n       [ 1.        , -2.57142857,  0.57340217,  1.        ],\n       [ 1.        ,  1.62857143,  0.39927409,  1.        ],\n       [ 1.        ,  0.85714286,  0.16250906,  1.        ],\n       [ 1.        ,  0.17142857,  1.        ,  1.        ],\n       [ 1.        , -1.54285714,  0.47819597,  1.        ],\n       [ 1.        , -2.31428571,  0.71332461,  1.        ],\n       [ 1.        , -2.57142857,  0.40761304,  1.        ],\n       [ 1.        , -1.11428571,  0.25246851,  1.        ],\n       [ 1.        , -0.68571429,  0.5594166 ,  1.        ],\n       [ 1.        , -0.68571429,  0.28242631,  1.        ],\n       [ 1.        ,  2.22857143,  0.27975075,  1.        ],\n       [ 1.        ,  2.74285714,  0.29157161,  1.        ],\n       [ 1.        , -2.65714286,  0.77899692,  1.        ],\n       [ 1.        , -2.65714286,  0.4081186 ,  1.        ],\n       [ 1.        ,  0.77142857,  0.31226652,  1.        ],\n       [ 1.        , -0.77142857,  0.49113467,  1.        ],\n       [ 1.        ,  0.08571429,  0.37905328,  1.        ],\n       [ 1.        , -1.2       ,  0.44816836,  1.        ],\n       [ 1.        , -1.62857143,  0.46104099,  1.        ],\n       [ 1.        , -0.77142857,  0.50176973,  1.        ],\n       [ 1.        ,  1.54285714,  0.29013201,  1.        ],\n       [ 1.        ,  2.14285714,  0.31131763,  1.        ],\n       [ 1.        ,  2.65714286,  0.28933586,  1.        ],\n       [ 1.        , -2.74285714,  0.79862385,  1.        ],\n       [ 1.        , -2.74285714,  0.55332006,  1.        ],\n       [ 1.        , -2.14285714,  0.557838  ,  1.        ],\n       [ 1.        ,  1.45714286,  0.40654377,  1.        ],\n       [ 1.        ,  0.68571429,  0.34938843,  1.        ],\n       [ 1.        , -0.85714286,  0.49834876,  1.        ],\n       [ 1.        ,  0.        ,  0.33541197,  1.        ],\n       [ 1.        , -1.71428571,  0.38356259,  1.        ],\n       [ 1.        , -1.28571429,  0.68516474,  1.        ],\n       [ 1.        , -1.71428571,  0.41899072,  1.        ],\n       [ 1.        , -0.85714286,  0.49863706,  1.        ],\n       [ 1.        ,  2.05714286,  0.25058837,  1.        ],\n       [ 1.        ,  2.57142857,  0.41621388,  1.        ],\n       [ 1.        , -2.82857143,  0.94138194,  1.        ],\n       [ 1.        , -2.82857143,  0.58854538,  1.        ],\n       [ 1.        , -0.08571429,  0.37895639,  1.        ],\n       [ 1.        , -2.82857143,  0.53268   ,  1.        ],\n       [ 1.        , -2.82857143,  0.74477331,  1.        ],\n       [ 1.        ,  0.6       ,  0.34965862,  1.        ],\n       [ 1.        , -0.94285714,  0.56043333,  1.        ],\n       [ 1.        , -1.8       ,  0.4129454 ,  1.        ],\n       [ 1.        , -1.8       ,  0.41152266,  1.        ],\n       [ 1.        , -0.94285714,  0.64832567,  1.        ],\n       [ 1.        ,  1.37142857,  0.31793935,  1.        ],\n       [ 1.        ,  1.97142857,  0.31826144,  1.        ],\n       [ 1.        ,  2.48571429,  0.43829701,  1.        ],\n       [ 1.        , -2.91428571,  0.65162776,  1.        ],\n       [ 1.        ,  0.51428571,  0.43807684,  1.        ],\n       [ 1.        , -1.02857143,  0.47836544,  1.        ],\n       [ 1.        , -1.88571429,  0.45204844,  1.        ],\n       [ 1.        , -2.91428571,  0.48063677,  1.        ],\n       [ 1.        ,  0.51428571,  0.32169881,  1.        ],\n       [ 1.        , -2.91428571,  0.25998744,  1.        ],\n       [ 1.        , -0.17142857,  0.23763293,  1.        ],\n       [ 1.        ,  1.28571429,  0.38129344,  1.        ],\n       [ 1.        ,  1.88571429,  0.30997959,  1.        ],\n       [ 1.        ,  2.4       ,  0.35269008,  1.        ]])"
     },
     "execution_count": 6,
     "metadata": {},
     "output_type": "execute_result"
    }
   ],
   "source": [
    "items"
   ],
   "metadata": {
    "collapsed": false,
    "pycharm": {
     "name": "#%%\n"
    }
   }
  },
  {
   "cell_type": "code",
   "execution_count": 65,
   "outputs": [
    {
     "name": "stdout",
     "output_type": "stream",
     "text": [
      "Competencia inicial del alumno: -1.1732870372226256\n",
      "Dominio estimado dados los elementos respondidos: -2.043786373611313\n",
      "El examen debería terminar?: False\n",
      "Siguiente tema a ser evaluado: 7\n"
     ]
    }
   ],
   "source": [
    "i = 0\n",
    "for nodo in NODOS:\n",
    "    if NODOS[nodo].id == '26' or NODOS[nodo].id == '161' or NODOS[nodo].id == '25' or NODOS[nodo].id == '24':\n",
    "        print(items[i])\n",
    "        print( \"ID NODO \" + str(NODOS[nodo].id) )\n",
    "        print( \"INDICE \" + str(i) )\n",
    "    i = i + 1\n",
    "\n",
    "#responses = [False, True, True, True, True]\n",
    "#administered_items = [59, 66, 106, 105, 160] # Esto significa que los temas de la lista de items\n",
    "responses = [False]\n",
    "administered_items = [60] # Esto significa que los temas de la lista de items\n",
    "est_theta = initializer.initialize()\n",
    "print('Competencia inicial del alumno:', est_theta)\n",
    "new_theta = estimator.estimate(items=items, administered_items=administered_items, response_vector=responses, est_theta=est_theta)\n",
    "print('Dominio estimado dados los elementos respondidos:', new_theta)\n",
    "_stop = stopper.stop(administered_items=items[administered_items], theta=est_theta)\n",
    "print('El examen debería terminar?:', _stop)\n",
    "item_index = selector.select(items=items, administered_items=administered_items, est_theta=est_theta)\n",
    "print('Siguiente tema a ser evaluado:', item_index)\n",
    "\n",
    "i = 0\n",
    "for nodo in NODOS:\n",
    "    if i == 7:\n",
    "        print(items[i])\n",
    "        print( \"ID NODO \" + str(NODOS[nodo].id) )\n",
    "        print( \"INDICE \" + str(i) )\n",
    "    i = i + 1\n",
    "\n",
    "s = Simulator(items, 10, RandomInitializer(), MaxInfoSelector(), NumericalSearchEstimator(), MaxItemStopper(10))\n",
    "s.simulate(verbose=True)\n",
    "print('Bias:', s.bias)\n",
    "print('Mean squared error:', s.mse)\n",
    "print('Root mean squared error:', s.rmse)\n",
    "examinee_index = 0\n",
    "print('Accessing examinee', examinee_index, 'results...')\n",
    "print('    True proficiency:', s.examinees[examinee_index])\n",
    "print('    Items administered:', s.administered_items[examinee_index])\n",
    "print('    Responses:', s.response_vectors[examinee_index])\n",
    "print('    Proficiency estimation during each step of the test:', s.estimations[examinee_index])"
   ],
   "metadata": {
    "collapsed": false,
    "pycharm": {
     "name": "#%%\n"
    }
   }
  },
  {
   "cell_type": "code",
   "execution_count": 66,
   "outputs": [
    {
     "name": "stdout",
     "output_type": "stream",
     "text": [
      "[ 1.         -1.11428571  0.27731235  1.        ]\n",
      "ID NODO 169\n",
      "INDICE 7\n"
     ]
    }
   ],
   "source": [],
   "metadata": {
    "collapsed": false,
    "pycharm": {
     "name": "#%%\n"
    }
   }
  },
  {
   "cell_type": "code",
   "execution_count": 69,
   "outputs": [
    {
     "name": "stderr",
     "output_type": "stream",
     "text": [
      "100%|██████████| 10/10 [00:00<00:00, 98.01it/s]"
     ]
    },
    {
     "name": "stdout",
     "output_type": "stream",
     "text": [
      "\n",
      "Starting simulation: Random Initializer Maximum Information Selector Numerical Search Estimator (bounded) Maximum Item Number Initializer 113 items\n",
      "Simulation took 0.10202860832214355 seconds\n",
      "Bias: -0.23986356547513116\n",
      "Mean squared error: 0.7242319816491931\n",
      "Root mean squared error: 0.8510182028894524\n",
      "Accessing examinee 0 results...\n",
      "    True proficiency: 1.5612254541796875\n",
      "    Items administered: [55, 60, 47, 109, 42, 38, 73, 15, 67, 99]\n",
      "    Responses: [False, True, True, True, True, True, False, True, True, True]\n",
      "    Proficiency estimation during each step of the test: [1.8722617455605821, -0.5210119822197088, -0.4095424404057455, 0.2118032586615063, 0.6780422514640508, 1.077791212730375, 1.520650203671405, 1.0151914128149921, 1.2241916357681797, 1.4103542950994972, 1.6177615555493896]\n"
     ]
    },
    {
     "name": "stderr",
     "output_type": "stream",
     "text": [
      "\n"
     ]
    }
   ],
   "source": [],
   "metadata": {
    "collapsed": false,
    "pycharm": {
     "name": "#%%\n"
    }
   }
  },
  {
   "cell_type": "code",
   "execution_count": 70,
   "outputs": [
    {
     "data": {
      "text/plain": "10"
     },
     "execution_count": 70,
     "metadata": {},
     "output_type": "execute_result"
    }
   ],
   "source": [
    "len(s.administered_items[0])"
   ],
   "metadata": {
    "collapsed": false,
    "pycharm": {
     "name": "#%%\n"
    }
   }
  },
  {
   "cell_type": "code",
   "execution_count": 71,
   "outputs": [
    {
     "data": {
      "text/plain": "<Figure size 432x288 with 1 Axes>",
      "image/png": "[encoded data removed]"
     },
     "metadata": {
      "needs_background": "light"
     },
     "output_type": "display_data"
    }
   ],
   "source": [
    "catplot.test_progress(simulator=s,index=0)"
   ],
   "metadata": {
    "collapsed": false,
    "pycharm": {
     "name": "#%%\n"
    }
   }
  },
  {
   "cell_type": "code",
   "execution_count": 72,
   "outputs": [
    {
     "data": {
      "text/plain": "<Figure size 648x504 with 4 Axes>",
      "image/png": "[encoded data removed]"
     },
     "metadata": {
      "needs_background": "light"
     },
     "output_type": "display_data"
    }
   ],
   "source": [
    "catplot.param_dist(items, figsize=(9,7))"
   ],
   "metadata": {
    "collapsed": false,
    "pycharm": {
     "name": "#%%\n"
    }
   }
  },
  {
   "cell_type": "code",
   "execution_count": 73,
   "outputs": [
    {
     "data": {
      "text/plain": "<Figure size 432x288 with 1 Axes>",
      "image/png": "[encoded data removed]"
     },
     "metadata": {
      "needs_background": "light"
     },
     "output_type": "display_data"
    }
   ],
   "source": [
    "a, b, c, d = items[1]\n",
    "catplot.item_curve(a,b,c,d)"
   ],
   "metadata": {
    "collapsed": false,
    "pycharm": {
     "name": "#%%\n"
    }
   }
  },
  {
   "cell_type": "code",
   "execution_count": 75,
   "outputs": [
    {
     "ename": "KeyError",
     "evalue": "0",
     "output_type": "error",
     "traceback": [
      "\u001B[1;31m---------------------------------------------------------------------------\u001B[0m",
      "\u001B[1;31mKeyError\u001B[0m                                  Traceback (most recent call last)",
      "\u001B[1;32m<ipython-input-75-a88d15fd26a3>\u001B[0m in \u001B[0;36m<module>\u001B[1;34m\u001B[0m\n\u001B[1;32m----> 1\u001B[1;33m \u001B[0mNODOS\u001B[0m\u001B[1;33m[\u001B[0m\u001B[1;36m0\u001B[0m\u001B[1;33m]\u001B[0m\u001B[1;33m\u001B[0m\u001B[1;33m\u001B[0m\u001B[0m\n\u001B[0m",
      "\u001B[1;31mKeyError\u001B[0m: 0"
     ]
    }
   ],
   "source": [
    "NODOS[0]"
   ],
   "metadata": {
    "collapsed": false,
    "pycharm": {
     "name": "#%%\n"
    }
   }
  },
  {
   "cell_type": "code",
   "execution_count": null,
   "outputs": [],
   "source": [
    "'''s = Simulator(items, 10, RandomInitializer(), MaxInfoSelector(), NumericalSearchEstimator(), MaxItemStopper(10))\n",
    "s.simulate(verbose=True)\n",
    "print('Bias:', s.bias)\n",
    "print('Mean squared error:', s.mse)\n",
    "print('Root mean squared error:', s.rmse)\n",
    "examinee_index = 0\n",
    "print('Accessing examinee', examinee_index, 'results...')\n",
    "print('    True proficiency:', s.examinees[examinee_index])\n",
    "print('    Items administered:', s.administered_items[examinee_index])\n",
    "print('    Responses:', s.response_vectors[examinee_index])\n",
    "print('    Proficiency estimation during each step of the test:', s.estimations[examinee_index])\n",
    "len(s.administered_items[0])\n",
    "catplot.test_progress(simulator=s,index=0)\n",
    "catplot.param_dist(items, figsize=(9,7))\n",
    "a, b, c, d = items[1]\n",
    "catplot.item_curve(a,b,c,d)'''\n"
   ],
   "metadata": {
    "collapsed": false,
    "pycharm": {
     "name": "#%%\n"
    }
   }
  }
 ],
 "metadata": {
  "kernelspec": {
   "display_name": "Python 3",
   "language": "python",
   "name": "python3"
  },
  "language_info": {
   "codemirror_mode": {
    "name": "ipython",
    "version": 2
   },
   "file_extension": ".py",
   "mimetype": "text/x-python",
   "name": "python",
   "nbconvert_exporter": "python",
   "pygments_lexer": "ipython2",
   "version": "2.7.6"
  }
 },
 "nbformat": 4,
 "nbformat_minor": 0
}